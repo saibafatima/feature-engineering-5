{
 "cells": [
  {
   "cell_type": "code",
   "execution_count": 1,
   "id": "a2114514-fe1b-43a6-bc94-0c15b750379a",
   "metadata": {},
   "outputs": [
    {
     "name": "stdout",
     "output_type": "stream",
     "text": [
      "Pearson correlation coefficient: 0.96\n"
     ]
    }
   ],
   "source": [
    "#Q1. Pearson correlation coefficient is a measure of the linear relationship between two variables. Suppose you have collected data on the amount of time students spend studying for an exam and their final exam scores. Calculate the Pearson correlation coefficient between these two variables and interpret the result.\n",
    "\n",
    "import pandas as pd\n",
    "import numpy as np\n",
    "\n",
    "# Sample dataset\n",
    "data = {'Study Time (hours)': [2, 4, 6, 8, 10, 12, 14, 16],\n",
    "        'Final Exam Score': [60, 70, 80, 85, 90, 92, 95, 98]}\n",
    "df = pd.DataFrame(data)\n",
    "\n",
    "# Calculate Pearson correlation coefficient\n",
    "correlation_coefficient = np.corrcoef(df['Study Time (hours)'], df['Final Exam Score'])[0, 1]\n",
    "print(f\"Pearson correlation coefficient: {correlation_coefficient:.2f}\")"
   ]
  },
  {
   "cell_type": "code",
   "execution_count": 2,
   "id": "39c512b5-bf53-430b-b74e-1832daa453db",
   "metadata": {},
   "outputs": [
    {
     "name": "stdout",
     "output_type": "stream",
     "text": [
      "Spearman's rank correlation coefficient (rho): 0.47\n",
      "p-value: 0.17\n"
     ]
    }
   ],
   "source": [
    "#Q2. Spearman's rank correlation is a measure of the monotonic relationship between two variables. Suppose you have collected data on the amount of sleep individuals get each night and their overall job satisfaction level on a scale of 1 to 10. Calculate the Spearman's rank correlation between these two variables and interpret the result.\n",
    "\n",
    "import pandas as pd\n",
    "from scipy.stats import spearmanr\n",
    "\n",
    "# Sample dataset\n",
    "data = {'Sleep (hours)': [6, 7, 5, 8, 9, 6, 7, 5, 8, 9],\n",
    "        'Job Satisfaction (1-10)': [8, 9, 6, 7, 8, 9, 7, 6, 8, 9]}\n",
    "df = pd.DataFrame(data)\n",
    "\n",
    "# Calculate Spearman's rank correlation\n",
    "rho, p = spearmanr(df['Sleep (hours)'], df['Job Satisfaction (1-10)'])\n",
    "print(f\"Spearman's rank correlation coefficient (rho): {rho:.2f}\")\n",
    "print(f\"p-value: {p:.2f}\")"
   ]
  },
  {
   "cell_type": "code",
   "execution_count": 3,
   "id": "eddf825b-f509-49bd-890f-3f385884bfac",
   "metadata": {},
   "outputs": [
    {
     "name": "stdout",
     "output_type": "stream",
     "text": [
      "Pearson correlation coefficient: -0.06\n",
      "Spearman's rank correlation coefficient (rho): -0.07\n",
      "p-value: 0.61\n"
     ]
    }
   ],
   "source": [
    "#Q3. Suppose you are conducting a study to examine the relationship between the number of hours of exercise per week and body mass index (BMI) in a sample of adults. You collected data on both variables for 50 participants. Calculate the Pearson correlation coefficient and the Spearman's rank correlation between these two variables and compare the results.\n",
    "\n",
    "import pandas as pd\n",
    "import numpy as np\n",
    "from scipy.stats import spearmanr\n",
    "\n",
    "# Sample dataset\n",
    "np.random.seed(0)\n",
    "data = {'Hours of Exercise per Week': np.random.normal(5, 2, 50),\n",
    "        'Body Mass Index (BMI)': np.random.normal(25, 5, 50)}\n",
    "df = pd.DataFrame(data)\n",
    "\n",
    "# Calculate Pearson correlation coefficient\n",
    "pearson_corr_coef = np.corrcoef(df['Hours of Exercise per Week'], df['Body Mass Index (BMI)'])[0, 1]\n",
    "print(f\"Pearson correlation coefficient: {pearson_corr_coef:.2f}\")\n",
    "\n",
    "# Calculate Spearman's rank correlation\n",
    "rho, p = spearmanr(df['Hours of Exercise per Week'], df['Body Mass Index (BMI)'])\n",
    "print(f\"Spearman's rank correlation coefficient (rho): {rho:.2f}\")\n",
    "print(f\"p-value: {p:.2f}\")"
   ]
  },
  {
   "cell_type": "code",
   "execution_count": 4,
   "id": "61c98d2b-5f3e-47af-af5f-c485db386597",
   "metadata": {},
   "outputs": [
    {
     "name": "stdout",
     "output_type": "stream",
     "text": [
      "Pearson correlation coefficient: -0.06\n"
     ]
    }
   ],
   "source": [
    "#Q4. A researcher is interested in examining the relationship between the number of hours individuals spend watching television per day and their level of physical activity. The researcher collected data on both variables from a sample of 50 participants. Calculate the Pearson correlation coefficient between these two variables.\n",
    "\n",
    "import pandas as pd\n",
    "import numpy as np\n",
    "\n",
    "# Sample dataset\n",
    "np.random.seed(0)\n",
    "data = {'Hours Watching TV per Day': np.random.normal(2, 1, 50),\n",
    "        'Level of Physical Activity (1-10)': np.random.normal(5, 2, 50)}\n",
    "df = pd.DataFrame(data)\n",
    "\n",
    "# Calculate Pearson correlation coefficient\n",
    "pearson_corr_coef = np.corrcoef(df['Hours Watching TV per Day'], df['Level of Physical Activity (1-10)'])[0, 1]\n",
    "print(f\"Pearson correlation coefficient: {pearson_corr_coef:.2f}\")"
   ]
  },
  {
   "cell_type": "code",
   "execution_count": 5,
   "id": "9b7b2ede-8c48-4c36-a79f-def3088429a4",
   "metadata": {},
   "outputs": [
    {
     "name": "stdout",
     "output_type": "stream",
     "text": [
      "Spearman's rank correlation coefficient (rho): 0.83\n",
      "p-value: 0.04\n"
     ]
    }
   ],
   "source": [
    "#Q5. A survey was conducted to examine the relationship between age and preference for a particular brand of soft drink. The survey results are shown below:\n",
    "\n",
    "import pandas as pd\n",
    "from scipy.stats import spearmanr\n",
    "\n",
    "# Survey results\n",
    "data = {'Age (Years)': [25, 42, 37, 19, 31, 28],\n",
    "        'Soft Drink Preference': ['Coke', 'Pepsi', 'Mountain dew', 'Coke', 'Pepsi', 'Coke']}\n",
    "\n",
    "df = pd.DataFrame(data)\n",
    "\n",
    "# Convert categorical variable to numerical ranks\n",
    "ranks = df['Soft Drink Preference'].map({'Coke': 1, 'Pepsi': 2, 'Mountain dew': 3})\n",
    "\n",
    "# Calculate Spearman's rank correlation coefficient\n",
    "rho, p = spearmanr(df['Age (Years)'], ranks)\n",
    "\n",
    "print(f\"Spearman's rank correlation coefficient (rho): {rho:.2f}\")\n",
    "print(f\"p-value: {p:.2f}\")"
   ]
  },
  {
   "cell_type": "code",
   "execution_count": null,
   "id": "ab4edb7e-c730-4d04-895f-3c66a4696cd7",
   "metadata": {},
   "outputs": [],
   "source": [
    "#Q6. A company is interested in examining the relationship between the number of sales calls made per day and the number of sales made per week. The company collected data on both variables from a sample of 30 sales representatives. Calculate the Pearson correlation coefficient between these two variables.\n",
    "\n",
    "\n"
   ]
  }
 ],
 "metadata": {
  "kernelspec": {
   "display_name": "Python 3 (ipykernel)",
   "language": "python",
   "name": "python3"
  },
  "language_info": {
   "codemirror_mode": {
    "name": "ipython",
    "version": 3
   },
   "file_extension": ".py",
   "mimetype": "text/x-python",
   "name": "python",
   "nbconvert_exporter": "python",
   "pygments_lexer": "ipython3",
   "version": "3.10.8"
  }
 },
 "nbformat": 4,
 "nbformat_minor": 5
}
